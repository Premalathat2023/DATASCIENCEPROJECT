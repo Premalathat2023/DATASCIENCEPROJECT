{
 "cells": [
  {
   "cell_type": "markdown",
   "id": "514cb0be",
   "metadata": {},
   "source": [
    "import numpy as np\n",
    "import pandas as pd\n",
    "df=pd.read_excel(\"D:/stud_marks.xlsx\")\n",
    "print(\"Welcome to data reading from excel\")"
   ]
  },
  {
   "cell_type": "code",
   "execution_count": 2,
   "id": "02a0cdaf",
   "metadata": {},
   "outputs": [
    {
     "name": "stdout",
     "output_type": "stream",
     "text": [
      "Welcome to data reading from excel\n"
     ]
    }
   ],
   "source": [
    "import numpy as np\n",
    "import pandas as pd\n",
    "df=pd.read_excel(\"D:/stud_marks.xlsx\",sheet_name='c')\n",
    "print(\"Welcome to data reading from excel\")\n",
    "\n"
   ]
  },
  {
   "cell_type": "code",
   "execution_count": 3,
   "id": "bdd4d699",
   "metadata": {
    "scrolled": true
   },
   "outputs": [
    {
     "data": {
      "text/html": [
       "<div>\n",
       "<style scoped>\n",
       "    .dataframe tbody tr th:only-of-type {\n",
       "        vertical-align: middle;\n",
       "    }\n",
       "\n",
       "    .dataframe tbody tr th {\n",
       "        vertical-align: top;\n",
       "    }\n",
       "\n",
       "    .dataframe thead th {\n",
       "        text-align: right;\n",
       "    }\n",
       "</style>\n",
       "<table border=\"1\" class=\"dataframe\">\n",
       "  <thead>\n",
       "    <tr style=\"text-align: right;\">\n",
       "      <th></th>\n",
       "      <th>S.no</th>\n",
       "      <th>Roll No</th>\n",
       "      <th>Name</th>\n",
       "      <th>12th Marks</th>\n",
       "      <th>12th %</th>\n",
       "    </tr>\n",
       "  </thead>\n",
       "  <tbody>\n",
       "    <tr>\n",
       "      <th>0</th>\n",
       "      <td>1</td>\n",
       "      <td>23BSDS101</td>\n",
       "      <td>AADISH S</td>\n",
       "      <td>333</td>\n",
       "      <td>55.50</td>\n",
       "    </tr>\n",
       "    <tr>\n",
       "      <th>1</th>\n",
       "      <td>2</td>\n",
       "      <td>23BSDS102</td>\n",
       "      <td>ADITHYA KRISHNA.M</td>\n",
       "      <td>462</td>\n",
       "      <td>77.00</td>\n",
       "    </tr>\n",
       "    <tr>\n",
       "      <th>2</th>\n",
       "      <td>3</td>\n",
       "      <td>23BSDS103</td>\n",
       "      <td>AJAY RATHNAVEL.K</td>\n",
       "      <td>510</td>\n",
       "      <td>85.00</td>\n",
       "    </tr>\n",
       "    <tr>\n",
       "      <th>3</th>\n",
       "      <td>4</td>\n",
       "      <td>23BSDS104</td>\n",
       "      <td>AKALYA.M</td>\n",
       "      <td>481</td>\n",
       "      <td>80.17</td>\n",
       "    </tr>\n",
       "    <tr>\n",
       "      <th>4</th>\n",
       "      <td>5</td>\n",
       "      <td>23BSDS105</td>\n",
       "      <td>ANNE DEBORA. P</td>\n",
       "      <td>497</td>\n",
       "      <td>497.00</td>\n",
       "    </tr>\n",
       "  </tbody>\n",
       "</table>\n",
       "</div>"
      ],
      "text/plain": [
       "   S.no    Roll No               Name 12th Marks  12th %\n",
       "0     1  23BSDS101           AADISH S        333   55.50\n",
       "1     2  23BSDS102  ADITHYA KRISHNA.M        462   77.00\n",
       "2     3  23BSDS103   AJAY RATHNAVEL.K        510   85.00\n",
       "3     4  23BSDS104           AKALYA.M        481   80.17\n",
       "4     5  23BSDS105     ANNE DEBORA. P        497  497.00"
      ]
     },
     "execution_count": 3,
     "metadata": {},
     "output_type": "execute_result"
    }
   ],
   "source": [
    "df.head()"
   ]
  },
  {
   "cell_type": "code",
   "execution_count": 4,
   "id": "71249a39",
   "metadata": {},
   "outputs": [
    {
     "data": {
      "text/html": [
       "<div>\n",
       "<style scoped>\n",
       "    .dataframe tbody tr th:only-of-type {\n",
       "        vertical-align: middle;\n",
       "    }\n",
       "\n",
       "    .dataframe tbody tr th {\n",
       "        vertical-align: top;\n",
       "    }\n",
       "\n",
       "    .dataframe thead th {\n",
       "        text-align: right;\n",
       "    }\n",
       "</style>\n",
       "<table border=\"1\" class=\"dataframe\">\n",
       "  <thead>\n",
       "    <tr style=\"text-align: right;\">\n",
       "      <th></th>\n",
       "      <th>S.no</th>\n",
       "      <th>Roll No</th>\n",
       "      <th>Name</th>\n",
       "      <th>12th Marks</th>\n",
       "      <th>12th %</th>\n",
       "    </tr>\n",
       "  </thead>\n",
       "  <tbody>\n",
       "    <tr>\n",
       "      <th>60</th>\n",
       "      <td>61</td>\n",
       "      <td>23BSDS161</td>\n",
       "      <td>VISHANTH M</td>\n",
       "      <td>402</td>\n",
       "      <td>67.0</td>\n",
       "    </tr>\n",
       "    <tr>\n",
       "      <th>61</th>\n",
       "      <td>62</td>\n",
       "      <td>23BSDS162</td>\n",
       "      <td>VISHNU.C</td>\n",
       "      <td>487</td>\n",
       "      <td>81.0</td>\n",
       "    </tr>\n",
       "    <tr>\n",
       "      <th>62</th>\n",
       "      <td>63</td>\n",
       "      <td>23BSDS163</td>\n",
       "      <td>VISHNU PRADEEP.S</td>\n",
       "      <td>427</td>\n",
       "      <td>71.2</td>\n",
       "    </tr>\n",
       "    <tr>\n",
       "      <th>63</th>\n",
       "      <td>64</td>\n",
       "      <td>23BSDS164</td>\n",
       "      <td>VIVITHA. M</td>\n",
       "      <td>439</td>\n",
       "      <td>73.0</td>\n",
       "    </tr>\n",
       "    <tr>\n",
       "      <th>64</th>\n",
       "      <td>65</td>\n",
       "      <td>23BSDS165</td>\n",
       "      <td>YADHUKRISHNA K</td>\n",
       "      <td>705</td>\n",
       "      <td>58.0</td>\n",
       "    </tr>\n",
       "  </tbody>\n",
       "</table>\n",
       "</div>"
      ],
      "text/plain": [
       "    S.no    Roll No              Name 12th Marks  12th %\n",
       "60    61  23BSDS161        VISHANTH M        402    67.0\n",
       "61    62  23BSDS162          VISHNU.C        487    81.0\n",
       "62    63  23BSDS163  VISHNU PRADEEP.S        427    71.2\n",
       "63    64  23BSDS164        VIVITHA. M        439    73.0\n",
       "64    65  23BSDS165    YADHUKRISHNA K        705    58.0"
      ]
     },
     "execution_count": 4,
     "metadata": {},
     "output_type": "execute_result"
    }
   ],
   "source": [
    "df.tail()"
   ]
  },
  {
   "cell_type": "code",
   "execution_count": 5,
   "id": "bf4d7ce4",
   "metadata": {},
   "outputs": [
    {
     "data": {
      "text/html": [
       "<div>\n",
       "<style scoped>\n",
       "    .dataframe tbody tr th:only-of-type {\n",
       "        vertical-align: middle;\n",
       "    }\n",
       "\n",
       "    .dataframe tbody tr th {\n",
       "        vertical-align: top;\n",
       "    }\n",
       "\n",
       "    .dataframe thead th {\n",
       "        text-align: right;\n",
       "    }\n",
       "</style>\n",
       "<table border=\"1\" class=\"dataframe\">\n",
       "  <thead>\n",
       "    <tr style=\"text-align: right;\">\n",
       "      <th></th>\n",
       "      <th>S.no</th>\n",
       "      <th>12th %</th>\n",
       "    </tr>\n",
       "  </thead>\n",
       "  <tbody>\n",
       "    <tr>\n",
       "      <th>count</th>\n",
       "      <td>65.00000</td>\n",
       "      <td>65.000000</td>\n",
       "    </tr>\n",
       "    <tr>\n",
       "      <th>mean</th>\n",
       "      <td>33.00000</td>\n",
       "      <td>78.185692</td>\n",
       "    </tr>\n",
       "    <tr>\n",
       "      <th>std</th>\n",
       "      <td>18.90767</td>\n",
       "      <td>53.763199</td>\n",
       "    </tr>\n",
       "    <tr>\n",
       "      <th>min</th>\n",
       "      <td>1.00000</td>\n",
       "      <td>51.000000</td>\n",
       "    </tr>\n",
       "    <tr>\n",
       "      <th>25%</th>\n",
       "      <td>17.00000</td>\n",
       "      <td>64.000000</td>\n",
       "    </tr>\n",
       "    <tr>\n",
       "      <th>50%</th>\n",
       "      <td>33.00000</td>\n",
       "      <td>72.000000</td>\n",
       "    </tr>\n",
       "    <tr>\n",
       "      <th>75%</th>\n",
       "      <td>49.00000</td>\n",
       "      <td>78.800000</td>\n",
       "    </tr>\n",
       "    <tr>\n",
       "      <th>max</th>\n",
       "      <td>65.00000</td>\n",
       "      <td>497.000000</td>\n",
       "    </tr>\n",
       "  </tbody>\n",
       "</table>\n",
       "</div>"
      ],
      "text/plain": [
       "           S.no      12th %\n",
       "count  65.00000   65.000000\n",
       "mean   33.00000   78.185692\n",
       "std    18.90767   53.763199\n",
       "min     1.00000   51.000000\n",
       "25%    17.00000   64.000000\n",
       "50%    33.00000   72.000000\n",
       "75%    49.00000   78.800000\n",
       "max    65.00000  497.000000"
      ]
     },
     "execution_count": 5,
     "metadata": {},
     "output_type": "execute_result"
    }
   ],
   "source": [
    "df.describe()"
   ]
  },
  {
   "cell_type": "code",
   "execution_count": 6,
   "id": "90506746",
   "metadata": {},
   "outputs": [
    {
     "data": {
      "text/plain": [
       "Index(['S.no', 'Roll No', 'Name', '12th Marks', '12th %'], dtype='object')"
      ]
     },
     "execution_count": 6,
     "metadata": {},
     "output_type": "execute_result"
    }
   ],
   "source": [
    "df.columns"
   ]
  },
  {
   "cell_type": "code",
   "execution_count": 26,
   "id": "72b74cd7",
   "metadata": {
    "scrolled": true
   },
   "outputs": [
    {
     "data": {
      "text/plain": [
       "<bound method DataFrame.info of       Roll No               Name HSC Marks  12th %\n",
       "0   23BSDS101           AADISH S       333   55.50\n",
       "1   23BSDS102  ADITHYA KRISHNA.M       462   77.00\n",
       "2   23BSDS103   AJAY RATHNAVEL.K       510   85.00\n",
       "3   23BSDS104           AKALYA.M       481   80.17\n",
       "4   23BSDS105     ANNE DEBORA. P       497  497.00\n",
       "..        ...                ...       ...     ...\n",
       "60  23BSDS161         VISHANTH M       402   67.00\n",
       "61  23BSDS162           VISHNU.C       487   81.00\n",
       "62  23BSDS163   VISHNU PRADEEP.S       427   71.20\n",
       "63  23BSDS164         VIVITHA. M       439   73.00\n",
       "64  23BSDS165     YADHUKRISHNA K       705   58.00\n",
       "\n",
       "[65 rows x 4 columns]>"
      ]
     },
     "execution_count": 26,
     "metadata": {},
     "output_type": "execute_result"
    }
   ],
   "source": [
    "df.info"
   ]
  },
  {
   "cell_type": "code",
   "execution_count": 8,
   "id": "9ef3e8b7",
   "metadata": {},
   "outputs": [
    {
     "data": {
      "text/plain": [
       "RangeIndex(start=0, stop=65, step=1)"
      ]
     },
     "execution_count": 8,
     "metadata": {},
     "output_type": "execute_result"
    }
   ],
   "source": [
    "df.index"
   ]
  },
  {
   "cell_type": "code",
   "execution_count": 9,
   "id": "e6bb1ce8",
   "metadata": {},
   "outputs": [
    {
     "data": {
      "text/plain": [
       "['S.no', 'Roll No', 'Name', '12th Marks', '12th %']"
      ]
     },
     "execution_count": 9,
     "metadata": {},
     "output_type": "execute_result"
    }
   ],
   "source": [
    "df.columns.tolist()"
   ]
  },
  {
   "cell_type": "code",
   "execution_count": 10,
   "id": "f1472733",
   "metadata": {},
   "outputs": [
    {
     "data": {
      "text/plain": [
       "[0,\n",
       " 1,\n",
       " 2,\n",
       " 3,\n",
       " 4,\n",
       " 5,\n",
       " 6,\n",
       " 7,\n",
       " 8,\n",
       " 9,\n",
       " 10,\n",
       " 11,\n",
       " 12,\n",
       " 13,\n",
       " 14,\n",
       " 15,\n",
       " 16,\n",
       " 17,\n",
       " 18,\n",
       " 19,\n",
       " 20,\n",
       " 21,\n",
       " 22,\n",
       " 23,\n",
       " 24,\n",
       " 25,\n",
       " 26,\n",
       " 27,\n",
       " 28,\n",
       " 29,\n",
       " 30,\n",
       " 31,\n",
       " 32,\n",
       " 33,\n",
       " 34,\n",
       " 35,\n",
       " 36,\n",
       " 37,\n",
       " 38,\n",
       " 39,\n",
       " 40,\n",
       " 41,\n",
       " 42,\n",
       " 43,\n",
       " 44,\n",
       " 45,\n",
       " 46,\n",
       " 47,\n",
       " 48,\n",
       " 49,\n",
       " 50,\n",
       " 51,\n",
       " 52,\n",
       " 53,\n",
       " 54,\n",
       " 55,\n",
       " 56,\n",
       " 57,\n",
       " 58,\n",
       " 59,\n",
       " 60,\n",
       " 61,\n",
       " 62,\n",
       " 63,\n",
       " 64]"
      ]
     },
     "execution_count": 10,
     "metadata": {},
     "output_type": "execute_result"
    }
   ],
   "source": [
    "df.index.tolist()"
   ]
  },
  {
   "cell_type": "code",
   "execution_count": 11,
   "id": "ba77c686",
   "metadata": {},
   "outputs": [
    {
     "name": "stdout",
     "output_type": "stream",
     "text": [
      "<class 'list'>\n",
      "<class 'list'>\n"
     ]
    }
   ],
   "source": [
    "print(type(df.columns.tolist()))\n",
    "print(type(df.index.tolist()))"
   ]
  },
  {
   "cell_type": "code",
   "execution_count": 12,
   "id": "3e2d4c6e",
   "metadata": {},
   "outputs": [
    {
     "data": {
      "text/plain": [
       "(65, 5)"
      ]
     },
     "execution_count": 12,
     "metadata": {},
     "output_type": "execute_result"
    }
   ],
   "source": [
    "df.shape"
   ]
  },
  {
   "cell_type": "code",
   "execution_count": 13,
   "id": "8e74dd7d",
   "metadata": {},
   "outputs": [
    {
     "data": {
      "text/html": [
       "<div>\n",
       "<style scoped>\n",
       "    .dataframe tbody tr th:only-of-type {\n",
       "        vertical-align: middle;\n",
       "    }\n",
       "\n",
       "    .dataframe tbody tr th {\n",
       "        vertical-align: top;\n",
       "    }\n",
       "\n",
       "    .dataframe thead th {\n",
       "        text-align: right;\n",
       "    }\n",
       "</style>\n",
       "<table border=\"1\" class=\"dataframe\">\n",
       "  <thead>\n",
       "    <tr style=\"text-align: right;\">\n",
       "      <th></th>\n",
       "      <th>Roll No</th>\n",
       "      <th>Name</th>\n",
       "      <th>12th Marks</th>\n",
       "      <th>12th %</th>\n",
       "    </tr>\n",
       "  </thead>\n",
       "  <tbody>\n",
       "    <tr>\n",
       "      <th>0</th>\n",
       "      <td>23BSDS101</td>\n",
       "      <td>AADISH S</td>\n",
       "      <td>333</td>\n",
       "      <td>55.5</td>\n",
       "    </tr>\n",
       "    <tr>\n",
       "      <th>1</th>\n",
       "      <td>23BSDS102</td>\n",
       "      <td>ADITHYA KRISHNA.M</td>\n",
       "      <td>462</td>\n",
       "      <td>77.0</td>\n",
       "    </tr>\n",
       "  </tbody>\n",
       "</table>\n",
       "</div>"
      ],
      "text/plain": [
       "     Roll No               Name 12th Marks  12th %\n",
       "0  23BSDS101           AADISH S        333    55.5\n",
       "1  23BSDS102  ADITHYA KRISHNA.M        462    77.0"
      ]
     },
     "execution_count": 13,
     "metadata": {},
     "output_type": "execute_result"
    }
   ],
   "source": [
    "# in pandas axis=0 represents rows (default) and axis=1 represents columns.\n",
    "df.drop(['S.no'], axis=1, inplace=True)\n",
    "df.head(2)"
   ]
  },
  {
   "cell_type": "code",
   "execution_count": 14,
   "id": "329a8361",
   "metadata": {},
   "outputs": [
    {
     "data": {
      "text/plain": [
       "Index(['Roll No', 'Name', 'HSC Marks', '12th %'], dtype='object')"
      ]
     },
     "execution_count": 14,
     "metadata": {},
     "output_type": "execute_result"
    }
   ],
   "source": [
    "df.rename(columns={'12th Marks':'HSC Marks'}, inplace=True)\n",
    "df.columns"
   ]
  },
  {
   "cell_type": "code",
   "execution_count": 15,
   "id": "14e9abbe",
   "metadata": {},
   "outputs": [
    {
     "name": "stdout",
     "output_type": "stream",
     "text": [
      "0      55.50\n",
      "1      77.00\n",
      "2      85.00\n",
      "3      80.17\n",
      "4     497.00\n",
      "       ...  \n",
      "60     67.00\n",
      "61     81.00\n",
      "62     71.20\n",
      "63     73.00\n",
      "64     58.00\n",
      "Length: 65, dtype: float64\n"
     ]
    },
    {
     "name": "stderr",
     "output_type": "stream",
     "text": [
      "C:\\Users\\DELL\\AppData\\Local\\Temp\\ipykernel_4956\\1994963151.py:1: FutureWarning: Dropping of nuisance columns in DataFrame reductions (with 'numeric_only=None') is deprecated; in a future version this will raise TypeError.  Select only valid columns before calling the reduction.\n",
      "  total = df.sum(axis=1)\n"
     ]
    }
   ],
   "source": [
    "total = df.sum(axis=1)\n",
    "print(total)"
   ]
  },
  {
   "cell_type": "code",
   "execution_count": 16,
   "id": "39ca4855",
   "metadata": {},
   "outputs": [
    {
     "data": {
      "text/plain": [
       "Roll No      0\n",
       "Name         0\n",
       "HSC Marks    0\n",
       "12th %       0\n",
       "dtype: int64"
      ]
     },
     "execution_count": 16,
     "metadata": {},
     "output_type": "execute_result"
    }
   ],
   "source": [
    "df.isnull().sum()"
   ]
  },
  {
   "cell_type": "code",
   "execution_count": 17,
   "id": "c5ed33a4",
   "metadata": {},
   "outputs": [
    {
     "data": {
      "text/plain": [
       "0              AADISH S\n",
       "1     ADITHYA KRISHNA.M\n",
       "2      AJAY RATHNAVEL.K\n",
       "3              AKALYA.M\n",
       "4        ANNE DEBORA. P\n",
       "            ...        \n",
       "60           VISHANTH M\n",
       "61             VISHNU.C\n",
       "62     VISHNU PRADEEP.S\n",
       "63           VIVITHA. M\n",
       "64       YADHUKRISHNA K\n",
       "Name: Name, Length: 65, dtype: object"
      ]
     },
     "execution_count": 17,
     "metadata": {},
     "output_type": "execute_result"
    }
   ],
   "source": [
    "df.Name"
   ]
  },
  {
   "cell_type": "code",
   "execution_count": 18,
   "id": "805552ae",
   "metadata": {},
   "outputs": [
    {
     "data": {
      "text/html": [
       "<div>\n",
       "<style scoped>\n",
       "    .dataframe tbody tr th:only-of-type {\n",
       "        vertical-align: middle;\n",
       "    }\n",
       "\n",
       "    .dataframe tbody tr th {\n",
       "        vertical-align: top;\n",
       "    }\n",
       "\n",
       "    .dataframe thead th {\n",
       "        text-align: right;\n",
       "    }\n",
       "</style>\n",
       "<table border=\"1\" class=\"dataframe\">\n",
       "  <thead>\n",
       "    <tr style=\"text-align: right;\">\n",
       "      <th></th>\n",
       "      <th>Roll No</th>\n",
       "      <th>Name</th>\n",
       "      <th>HSC Marks</th>\n",
       "      <th>12th %</th>\n",
       "    </tr>\n",
       "  </thead>\n",
       "  <tbody>\n",
       "    <tr>\n",
       "      <th>0</th>\n",
       "      <td>23BSDS101</td>\n",
       "      <td>AADISH S</td>\n",
       "      <td>333</td>\n",
       "      <td>55.50</td>\n",
       "    </tr>\n",
       "    <tr>\n",
       "      <th>1</th>\n",
       "      <td>23BSDS102</td>\n",
       "      <td>ADITHYA KRISHNA.M</td>\n",
       "      <td>462</td>\n",
       "      <td>77.00</td>\n",
       "    </tr>\n",
       "    <tr>\n",
       "      <th>2</th>\n",
       "      <td>23BSDS103</td>\n",
       "      <td>AJAY RATHNAVEL.K</td>\n",
       "      <td>510</td>\n",
       "      <td>85.00</td>\n",
       "    </tr>\n",
       "    <tr>\n",
       "      <th>3</th>\n",
       "      <td>23BSDS104</td>\n",
       "      <td>AKALYA.M</td>\n",
       "      <td>481</td>\n",
       "      <td>80.17</td>\n",
       "    </tr>\n",
       "    <tr>\n",
       "      <th>4</th>\n",
       "      <td>23BSDS105</td>\n",
       "      <td>ANNE DEBORA. P</td>\n",
       "      <td>497</td>\n",
       "      <td>497.00</td>\n",
       "    </tr>\n",
       "    <tr>\n",
       "      <th>...</th>\n",
       "      <td>...</td>\n",
       "      <td>...</td>\n",
       "      <td>...</td>\n",
       "      <td>...</td>\n",
       "    </tr>\n",
       "    <tr>\n",
       "      <th>60</th>\n",
       "      <td>23BSDS161</td>\n",
       "      <td>VISHANTH M</td>\n",
       "      <td>402</td>\n",
       "      <td>67.00</td>\n",
       "    </tr>\n",
       "    <tr>\n",
       "      <th>61</th>\n",
       "      <td>23BSDS162</td>\n",
       "      <td>VISHNU.C</td>\n",
       "      <td>487</td>\n",
       "      <td>81.00</td>\n",
       "    </tr>\n",
       "    <tr>\n",
       "      <th>62</th>\n",
       "      <td>23BSDS163</td>\n",
       "      <td>VISHNU PRADEEP.S</td>\n",
       "      <td>427</td>\n",
       "      <td>71.20</td>\n",
       "    </tr>\n",
       "    <tr>\n",
       "      <th>63</th>\n",
       "      <td>23BSDS164</td>\n",
       "      <td>VIVITHA. M</td>\n",
       "      <td>439</td>\n",
       "      <td>73.00</td>\n",
       "    </tr>\n",
       "    <tr>\n",
       "      <th>64</th>\n",
       "      <td>23BSDS165</td>\n",
       "      <td>YADHUKRISHNA K</td>\n",
       "      <td>705</td>\n",
       "      <td>58.00</td>\n",
       "    </tr>\n",
       "  </tbody>\n",
       "</table>\n",
       "<p>65 rows × 4 columns</p>\n",
       "</div>"
      ],
      "text/plain": [
       "      Roll No               Name HSC Marks  12th %\n",
       "0   23BSDS101           AADISH S       333   55.50\n",
       "1   23BSDS102  ADITHYA KRISHNA.M       462   77.00\n",
       "2   23BSDS103   AJAY RATHNAVEL.K       510   85.00\n",
       "3   23BSDS104           AKALYA.M       481   80.17\n",
       "4   23BSDS105     ANNE DEBORA. P       497  497.00\n",
       "..        ...                ...       ...     ...\n",
       "60  23BSDS161         VISHANTH M       402   67.00\n",
       "61  23BSDS162           VISHNU.C       487   81.00\n",
       "62  23BSDS163   VISHNU PRADEEP.S       427   71.20\n",
       "63  23BSDS164         VIVITHA. M       439   73.00\n",
       "64  23BSDS165     YADHUKRISHNA K       705   58.00\n",
       "\n",
       "[65 rows x 4 columns]"
      ]
     },
     "execution_count": 18,
     "metadata": {},
     "output_type": "execute_result"
    }
   ],
   "source": [
    "df"
   ]
  },
  {
   "cell_type": "code",
   "execution_count": 19,
   "id": "6331d86a",
   "metadata": {},
   "outputs": [
    {
     "data": {
      "text/plain": [
       "<bound method NDFrame.head of       Roll No               Name HSC Marks  12th %\n",
       "0   23BSDS101           AADISH S       333   55.50\n",
       "1   23BSDS102  ADITHYA KRISHNA.M       462   77.00\n",
       "2   23BSDS103   AJAY RATHNAVEL.K       510   85.00\n",
       "3   23BSDS104           AKALYA.M       481   80.17\n",
       "4   23BSDS105     ANNE DEBORA. P       497  497.00\n",
       "..        ...                ...       ...     ...\n",
       "60  23BSDS161         VISHANTH M       402   67.00\n",
       "61  23BSDS162           VISHNU.C       487   81.00\n",
       "62  23BSDS163   VISHNU PRADEEP.S       427   71.20\n",
       "63  23BSDS164         VIVITHA. M       439   73.00\n",
       "64  23BSDS165     YADHUKRISHNA K       705   58.00\n",
       "\n",
       "[65 rows x 4 columns]>"
      ]
     },
     "execution_count": 19,
     "metadata": {},
     "output_type": "execute_result"
    }
   ],
   "source": [
    "df.head"
   ]
  },
  {
   "cell_type": "code",
   "execution_count": 20,
   "id": "2d16b88a",
   "metadata": {},
   "outputs": [
    {
     "data": {
      "text/html": [
       "<div>\n",
       "<style scoped>\n",
       "    .dataframe tbody tr th:only-of-type {\n",
       "        vertical-align: middle;\n",
       "    }\n",
       "\n",
       "    .dataframe tbody tr th {\n",
       "        vertical-align: top;\n",
       "    }\n",
       "\n",
       "    .dataframe thead th {\n",
       "        text-align: right;\n",
       "    }\n",
       "</style>\n",
       "<table border=\"1\" class=\"dataframe\">\n",
       "  <thead>\n",
       "    <tr style=\"text-align: right;\">\n",
       "      <th></th>\n",
       "      <th>Roll No</th>\n",
       "      <th>Name</th>\n",
       "      <th>HSC Marks</th>\n",
       "      <th>12th %</th>\n",
       "    </tr>\n",
       "  </thead>\n",
       "  <tbody>\n",
       "    <tr>\n",
       "      <th>0</th>\n",
       "      <td>23BSDS101</td>\n",
       "      <td>AADISH S</td>\n",
       "      <td>333</td>\n",
       "      <td>55.50</td>\n",
       "    </tr>\n",
       "    <tr>\n",
       "      <th>1</th>\n",
       "      <td>23BSDS102</td>\n",
       "      <td>ADITHYA KRISHNA.M</td>\n",
       "      <td>462</td>\n",
       "      <td>77.00</td>\n",
       "    </tr>\n",
       "    <tr>\n",
       "      <th>2</th>\n",
       "      <td>23BSDS103</td>\n",
       "      <td>AJAY RATHNAVEL.K</td>\n",
       "      <td>510</td>\n",
       "      <td>85.00</td>\n",
       "    </tr>\n",
       "    <tr>\n",
       "      <th>3</th>\n",
       "      <td>23BSDS104</td>\n",
       "      <td>AKALYA.M</td>\n",
       "      <td>481</td>\n",
       "      <td>80.17</td>\n",
       "    </tr>\n",
       "    <tr>\n",
       "      <th>4</th>\n",
       "      <td>23BSDS105</td>\n",
       "      <td>ANNE DEBORA. P</td>\n",
       "      <td>497</td>\n",
       "      <td>497.00</td>\n",
       "    </tr>\n",
       "  </tbody>\n",
       "</table>\n",
       "</div>"
      ],
      "text/plain": [
       "     Roll No               Name HSC Marks  12th %\n",
       "0  23BSDS101           AADISH S       333   55.50\n",
       "1  23BSDS102  ADITHYA KRISHNA.M       462   77.00\n",
       "2  23BSDS103   AJAY RATHNAVEL.K       510   85.00\n",
       "3  23BSDS104           AKALYA.M       481   80.17\n",
       "4  23BSDS105     ANNE DEBORA. P       497  497.00"
      ]
     },
     "execution_count": 20,
     "metadata": {},
     "output_type": "execute_result"
    }
   ],
   "source": [
    "df.head(5)"
   ]
  },
  {
   "cell_type": "code",
   "execution_count": 21,
   "id": "59564eeb",
   "metadata": {},
   "outputs": [
    {
     "data": {
      "text/html": [
       "<div>\n",
       "<style scoped>\n",
       "    .dataframe tbody tr th:only-of-type {\n",
       "        vertical-align: middle;\n",
       "    }\n",
       "\n",
       "    .dataframe tbody tr th {\n",
       "        vertical-align: top;\n",
       "    }\n",
       "\n",
       "    .dataframe thead th {\n",
       "        text-align: right;\n",
       "    }\n",
       "</style>\n",
       "<table border=\"1\" class=\"dataframe\">\n",
       "  <thead>\n",
       "    <tr style=\"text-align: right;\">\n",
       "      <th></th>\n",
       "      <th>Roll No</th>\n",
       "      <th>Name</th>\n",
       "      <th>HSC Marks</th>\n",
       "      <th>12th %</th>\n",
       "    </tr>\n",
       "  </thead>\n",
       "  <tbody>\n",
       "    <tr>\n",
       "      <th>0</th>\n",
       "      <td>23BSDS101</td>\n",
       "      <td>AADISH S</td>\n",
       "      <td>333</td>\n",
       "      <td>55.50</td>\n",
       "    </tr>\n",
       "    <tr>\n",
       "      <th>1</th>\n",
       "      <td>23BSDS102</td>\n",
       "      <td>ADITHYA KRISHNA.M</td>\n",
       "      <td>462</td>\n",
       "      <td>77.00</td>\n",
       "    </tr>\n",
       "    <tr>\n",
       "      <th>2</th>\n",
       "      <td>23BSDS103</td>\n",
       "      <td>AJAY RATHNAVEL.K</td>\n",
       "      <td>510</td>\n",
       "      <td>85.00</td>\n",
       "    </tr>\n",
       "    <tr>\n",
       "      <th>3</th>\n",
       "      <td>23BSDS104</td>\n",
       "      <td>AKALYA.M</td>\n",
       "      <td>481</td>\n",
       "      <td>80.17</td>\n",
       "    </tr>\n",
       "    <tr>\n",
       "      <th>4</th>\n",
       "      <td>23BSDS105</td>\n",
       "      <td>ANNE DEBORA. P</td>\n",
       "      <td>497</td>\n",
       "      <td>497.00</td>\n",
       "    </tr>\n",
       "  </tbody>\n",
       "</table>\n",
       "</div>"
      ],
      "text/plain": [
       "     Roll No               Name HSC Marks  12th %\n",
       "0  23BSDS101           AADISH S       333   55.50\n",
       "1  23BSDS102  ADITHYA KRISHNA.M       462   77.00\n",
       "2  23BSDS103   AJAY RATHNAVEL.K       510   85.00\n",
       "3  23BSDS104           AKALYA.M       481   80.17\n",
       "4  23BSDS105     ANNE DEBORA. P       497  497.00"
      ]
     },
     "execution_count": 21,
     "metadata": {},
     "output_type": "execute_result"
    }
   ],
   "source": [
    "df.head(5)"
   ]
  },
  {
   "cell_type": "code",
   "execution_count": 22,
   "id": "4b9fa735",
   "metadata": {},
   "outputs": [
    {
     "data": {
      "text/plain": [
       "Roll No      23BSDS104\n",
       "Name          AKALYA.M\n",
       "HSC Marks          481\n",
       "12th %           80.17\n",
       "Name: 3, dtype: object"
      ]
     },
     "execution_count": 22,
     "metadata": {},
     "output_type": "execute_result"
    }
   ],
   "source": [
    "df.iloc[3]"
   ]
  },
  {
   "cell_type": "code",
   "execution_count": 23,
   "id": "4e81d51d",
   "metadata": {},
   "outputs": [
    {
     "data": {
      "text/plain": [
       "Roll No              23BSDS102\n",
       "Name         ADITHYA KRISHNA.M\n",
       "HSC Marks                  462\n",
       "12th %                    77.0\n",
       "Name: 1, dtype: object"
      ]
     },
     "execution_count": 23,
     "metadata": {},
     "output_type": "execute_result"
    }
   ],
   "source": [
    "df.loc[1]"
   ]
  },
  {
   "cell_type": "code",
   "execution_count": 24,
   "id": "b2afcf21",
   "metadata": {},
   "outputs": [
    {
     "data": {
      "text/html": [
       "<div>\n",
       "<style scoped>\n",
       "    .dataframe tbody tr th:only-of-type {\n",
       "        vertical-align: middle;\n",
       "    }\n",
       "\n",
       "    .dataframe tbody tr th {\n",
       "        vertical-align: top;\n",
       "    }\n",
       "\n",
       "    .dataframe thead th {\n",
       "        text-align: right;\n",
       "    }\n",
       "</style>\n",
       "<table border=\"1\" class=\"dataframe\">\n",
       "  <thead>\n",
       "    <tr style=\"text-align: right;\">\n",
       "      <th></th>\n",
       "      <th>Roll No</th>\n",
       "      <th>Name</th>\n",
       "      <th>HSC Marks</th>\n",
       "      <th>12th %</th>\n",
       "    </tr>\n",
       "  </thead>\n",
       "  <tbody>\n",
       "  </tbody>\n",
       "</table>\n",
       "</div>"
      ],
      "text/plain": [
       "Empty DataFrame\n",
       "Columns: [Roll No, Name, HSC Marks, 12th %]\n",
       "Index: []"
      ]
     },
     "execution_count": 24,
     "metadata": {},
     "output_type": "execute_result"
    }
   ],
   "source": [
    "df[df.index == '9']"
   ]
  },
  {
   "cell_type": "code",
   "execution_count": null,
   "id": "7662a7be",
   "metadata": {},
   "outputs": [],
   "source": []
  }
 ],
 "metadata": {
  "kernelspec": {
   "display_name": "Python 3 (ipykernel)",
   "language": "python",
   "name": "python3"
  },
  "language_info": {
   "codemirror_mode": {
    "name": "ipython",
    "version": 3
   },
   "file_extension": ".py",
   "mimetype": "text/x-python",
   "name": "python",
   "nbconvert_exporter": "python",
   "pygments_lexer": "ipython3",
   "version": "3.10.9"
  }
 },
 "nbformat": 4,
 "nbformat_minor": 5
}
